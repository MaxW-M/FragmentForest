{
  "nbformat": 4,
  "nbformat_minor": 0,
  "metadata": {
    "colab": {
      "provenance": [],
      "mount_file_id": "1G4S9M5nQ_3xallhoV_DAlIFKdakH0D8a",
      "authorship_tag": "ABX9TyNmDByVOtvG6zNuyquitap3",
      "include_colab_link": true
    },
    "kernelspec": {
      "name": "python3",
      "display_name": "Python 3"
    },
    "language_info": {
      "name": "python"
    }
  },
  "cells": [
    {
      "cell_type": "markdown",
      "metadata": {
        "id": "view-in-github",
        "colab_type": "text"
      },
      "source": [
        "<a href=\"https://colab.research.google.com/github/MaxW-M/FragmentForest/blob/main/Fragment_Forest.ipynb\" target=\"_parent\"><img src=\"https://colab.research.google.com/assets/colab-badge.svg\" alt=\"Open In Colab\"/></a>"
      ]
    },
    {
      "cell_type": "code",
      "source": [
        "# @title Imports\n",
        "\n",
        "import numpy as np\n",
        "from sklearn import tree\n",
        "from sklearn import preprocessing, metrics\n",
        "from sklearn.model_selection import train_test_split\n",
        "from sklearn.ensemble import RandomForestRegressor\n",
        "import matplotlib.pyplot as plt\n",
        "import pandas as pd\n",
        "import pickle"
      ],
      "metadata": {
        "id": "ZRBzaRtzCTcp"
      },
      "execution_count": 1,
      "outputs": []
    },
    {
      "cell_type": "code",
      "source": [
        "input_data = ['1-octanol', 'butyl acetate', 'chloroform', 'cyclohexane', 'dichloromethane',\n",
        "              'triolein', 'n-hexane', 'n-octane', 'oleylalcohol', 'toluene', 'n-undecane',\n",
        "              'MONOISOTOPIC_MASS', 'H', 'C', 'N', 'O', 'F', 'P', 'S', 'Cl', 'I', 'Br', 'benzene']\n",
        "\n",
        "'''\n",
        "preconditions: data is the path to the data file\n",
        "               output is the path to the file where the trimmed csv will be saved\n",
        "               set shuffle to True if you want the data shuffled\n",
        "postconditions: returns input and output data as x and y respectively\n",
        "'''\n",
        "def process_data(data, output, shuffle=False):\n",
        "    # read csv file with the data\n",
        "    df = pd.read_csv(data)\n",
        "\n",
        "    # remove any non-input or SMILES columns\n",
        "    for col in df.columns:\n",
        "      if col not in input_data:\n",
        "        df.drop(columns=col, inplace=True)\n",
        "\n",
        "    # shuffle the data\n",
        "    if shuffle:\n",
        "      df = df.sample(frac=1).reset_index(drop=True)\n",
        "\n",
        "    # save the trimmed data frame\n",
        "    df.to_csv(output, index=False)\n",
        "\n",
        "    # split the dataframe into x and y values\n",
        "    y_df = df\n",
        "    y_df = y_df[['benzene']]\n",
        "    df.drop(columns='benzene', inplace=True)\n",
        "\n",
        "    # turn x and y into numpy arrays\n",
        "    x = df.to_numpy()\n",
        "    y = y_df.to_numpy()\n",
        "    y = np.ravel(y)\n",
        "\n",
        "    return x, y"
      ],
      "metadata": {
        "id": "ABret1QUTiqo"
      },
      "execution_count": 2,
      "outputs": []
    },
    {
      "cell_type": "code",
      "execution_count": 3,
      "metadata": {
        "id": "o92sjkMDBjn6"
      },
      "outputs": [],
      "source": [
        "# @title Random Forest\n",
        "\n",
        "def build_random_forest(features, targets, output, num_trees=100):\n",
        "  '''\n",
        "  Train a Random Forest with bootstrapped samples, using Gini Impurtity to evaluate each split.\n",
        "  Outputs the Out-Of-Bag Error (OOB Error)\n",
        "\n",
        "  By default it build a Random Forest with 100 treees and randomly picks sqrt(number of features) at each\n",
        "  split.\n",
        "\n",
        "  param features: model features\n",
        "  param targets: model targets\n",
        "  '''\n",
        "\n",
        "  # oob_score parameter means the model will use out-of-bag samples to estimate generalization score.\n",
        "  # to get oob_score, the model requires bootsrap aparameter to be True\n",
        "  random_forest = RandomForestRegressor(n_estimators=num_trees, random_state=0)\n",
        "  random_forest.fit(features, targets)\n",
        "  pickle.dump(random_forest, open(output, 'wb'))\n",
        "\n",
        "  y_pred = random_forest.predict(features).flatten()\n",
        "\n",
        "  '''\n",
        "  print('Mean Absolute Error:', metrics.mean_absolute_error(targets, y_pred))\n",
        "  print('Mean Squared Error:', metrics.mean_squared_error(targets, y_pred))\n",
        "  print('Root Mean Squared Error:', np.sqrt(metrics.mean_squared_error(targets, y_pred)))\n",
        "  print('R Squared Error: ', metrics.r2_score(targets, y_pred))\n",
        "  '''\n",
        "\n",
        "  return y_pred"
      ]
    },
    {
      "cell_type": "code",
      "source": [
        "def r_squared_error_viz(features, targets, number_trees):\n",
        "  '''\n",
        "  Visualize the r squared Error as a function of the number of trees in the Random Forest.\n",
        "\n",
        "  param features: model features\n",
        "  param targets: model targets\n",
        "  param number_trees: maximum size of the random forest\n",
        "  '''\n",
        "\n",
        "  # range is exclusive, it stops at N+1\n",
        "  # starts with 5 trees, otherwise its too few for the algorithm to run\n",
        "  min_number_trees = 5\n",
        "  max_depth_array = range(min_number_trees, number_trees+1)\n",
        "  r_squared_error_array = []\n",
        "\n",
        "  for tree_i in max_depth_array:\n",
        "    # show progress on computation\n",
        "    if tree_i % 25 == 0:\n",
        "      print(\"Building Random Forest with \" + str(tree_i) + \" trees\")\n",
        "\n",
        "    # Out-Of-Bag Error\n",
        "    r_squared_error_array.append(np.round(build_random_forest(features, targets, 'model.h5', num_trees=tree_i), 2))\n",
        "\n",
        "  # outputs the lowest OOB error and the OOB error for the biggest random forest built.\n",
        "  highest_r_error = max(r_squared_error_array)\n",
        "  best_forest_size = r_squared_error_array.index(highest_r_error) + min_number_trees\n",
        "  print(\"\\nRandom Forest with \" + str(best_forest_size) + \" trees, has r Squared Error = \" + str(highest_r_error))\n",
        "\n",
        "  fig, ax = plt.subplots(figsize=(17, 12))\n",
        "\n",
        "  # removing all borders except bottom\n",
        "  ax.spines['top'].set_visible(False)\n",
        "  ax.spines['right'].set_visible(False)\n",
        "\n",
        "  # setting y-axis limit to range to be from 0 to 1\n",
        "  plt.ylim([0, 1])\n",
        "  ax.plot(max_depth_array, r_squared_error_array, color='#435373', linewidth=3)\n",
        "\n",
        "  # setting plot title and naming axis\n",
        "  plt.title(\"Out-Of-Bag Error as a function of number of trees\\n in Random Forest\", fontsize=25)\n",
        "  ax.set_xlabel(\"Number of trees in Random Forest\", fontsize=18, labelpad=15)\n",
        "  ax.set_ylabel(\"OOB Error\", fontsize=18, labelpad=15)\n",
        "\n",
        "  plt.show()\n"
      ],
      "metadata": {
        "id": "eTKCmMZmQ4Wg"
      },
      "execution_count": 4,
      "outputs": []
    },
    {
      "cell_type": "code",
      "source": [
        "def plot_trueVSpred(ytrue, y_pred):\n",
        "    fig = plt.figure()\n",
        "    plt.scatter(ytrue, y_pred)\n",
        "    plt.xlabel('True Values')\n",
        "    plt.ylabel('Predictions')\n",
        "    plt.axis('equal')\n",
        "    plt.xlim(plt.xlim())\n",
        "    plt.ylim(plt.ylim())\n",
        "    _ = plt.plot([-100, 100], [-100, 100])\n",
        "    plt.show()\n",
        "    return(fig)\n",
        "\n",
        "\n",
        "\n",
        "def plot_error(ytrue, y_pred):\n",
        "    fig = plt.figure()\n",
        "    error = y_pred - ytrue\n",
        "    plt.hist(error, bins = 10)\n",
        "    plt.xlabel(\"Prediction Error\")\n",
        "    _ = plt.ylabel(\"Count\")\n",
        "    plt.show()\n",
        "    return(fig)"
      ],
      "metadata": {
        "id": "2LF85c4w1Ki_"
      },
      "execution_count": 5,
      "outputs": []
    },
    {
      "cell_type": "code",
      "source": [
        "features, targets = process_data('drive/MyDrive/Data Sets/TurboChemDB5.2.csv', 'processed_data.npy')\n",
        "# ideal number of trees = 38\n",
        "y_pred = build_random_forest(features, targets, 'model.h5', num_trees=38)\n",
        "fig = plot_trueVSpred(targets, y_pred)\n",
        "fig = plot_error(targets, y_pred)\n",
        "\n",
        "# Export data into a dataframe\n",
        "df = pd.DataFrame({'true_values':targets,'predicted_values':y_pred})\n",
        "df.to_csv('RF_plus_tr_5.csv') # Print data to a csv file\n",
        "\n",
        "R2 = np.round(metrics.r2_score(targets, y_pred), 2)\n",
        "mae = np.round(metrics.mean_absolute_error(targets, y_pred), 2)\n",
        "\n",
        "print(\"Training set R2 = \" + str(R2))\n",
        "print(\"Training set Mean Abs Error = \" + str(mae))"
      ],
      "metadata": {
        "colab": {
          "base_uri": "https://localhost:8080/",
          "height": 916
        },
        "id": "UIL_N6xwe8bi",
        "outputId": "0af75b1d-470c-4b0c-8ac4-645a1faf2b94"
      },
      "execution_count": 10,
      "outputs": [
        {
          "output_type": "display_data",
          "data": {
            "text/plain": [
              "<Figure size 640x480 with 1 Axes>"
            ],
            "image/png": "[encoded data removed]"
          },
          "metadata": {}
        },
        {
          "output_type": "display_data",
          "data": {
            "text/plain": [
              "<Figure size 640x480 with 1 Axes>"
            ],
            "image/png": "[encoded data removed]"
          },
          "metadata": {}
        },
        {
          "output_type": "stream",
          "name": "stdout",
          "text": [
            "Training set R2 = 0.98\n",
            "Training set Mean Abs Error = 0.07\n"
          ]
        }
      ]
    },
    {
      "cell_type": "code",
      "source": [
        "from google.colab import drive\n",
        "drive.mount('/content/drive')"
      ],
      "metadata": {
        "colab": {
          "base_uri": "https://localhost:8080/"
        },
        "id": "6wMlLyeaZ2wq",
        "outputId": "4f7232d6-ea09-4c64-dfc8-6d0beb15aa9b"
      },
      "execution_count": null,
      "outputs": [
        {
          "output_type": "stream",
          "name": "stdout",
          "text": [
            "Mounted at /content/drive\n"
          ]
        }
      ]
    }
  ]
}